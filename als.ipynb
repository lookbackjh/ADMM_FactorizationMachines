{
 "cells": [
  {
   "cell_type": "code",
   "execution_count": 28,
   "metadata": {},
   "outputs": [],
   "source": [
    "import argparse\n",
    "# apply admm matrix factorization -> how to get the first order easily?\n",
    "from src.preprocess.ml100k import ML100k\n",
    "from src.models.mf import MF\n",
    "from src.utils.trainer import Trainer\n",
    "import torch\n",
    "\n",
    "argparser = argparse.ArgumentParser()\n",
    "argparser.add_argument('--latent_dim', type=int, default=10)\n",
    "argparser.add_argument('--dropout', type=float, default=0.1)\n",
    "argparser.add_argument('--batch_size', type=int, default=500)\n",
    "argparser.add_argument('--epochs', type=int, default=100)\n",
    "argparser.add_argument('--lr', type=float, default=0.01)\n",
    "argparser.add_argument('--weight_decay', type=float, default=0.1)\n",
    "args = argparser.parse_args(\"\")\n",
    "ml100k=ML100k(args)\n",
    "data=ml100k.get_dataframe()\n",
    "#mf_model=MF(args,ml100k.num_users,ml100k.num_items)"
   ]
  },
  {
   "cell_type": "code",
   "execution_count": 51,
   "metadata": {},
   "outputs": [
    {
     "data": {
      "text/plain": [
       "array([[5, 3, 4, ..., 0, 0, 0],\n",
       "       [4, 0, 0, ..., 0, 0, 0],\n",
       "       [0, 0, 0, ..., 0, 0, 0],\n",
       "       ...,\n",
       "       [5, 0, 0, ..., 0, 0, 0],\n",
       "       [0, 0, 0, ..., 0, 0, 0],\n",
       "       [0, 5, 0, ..., 0, 0, 0]])"
      ]
     },
     "execution_count": 51,
     "metadata": {},
     "output_type": "execute_result"
    }
   ],
   "source": [
    "rating_matrix"
   ]
  },
  {
   "cell_type": "code",
   "execution_count": 50,
   "metadata": {},
   "outputs": [
    {
     "name": "stdout",
     "output_type": "stream",
     "text": [
      "iter:  0\n",
      "mse:  13.168907705357885\n",
      "iter:  1\n",
      "mse:  13.14506979136003\n",
      "iter:  2\n",
      "mse:  13.001893383667989\n",
      "iter:  3\n",
      "mse:  12.845252954929927\n"
     ]
    },
    {
     "ename": "KeyboardInterrupt",
     "evalue": "",
     "output_type": "error",
     "traceback": [
      "\u001b[0;31m---------------------------------------------------------------------------\u001b[0m",
      "\u001b[0;31mKeyboardInterrupt\u001b[0m                         Traceback (most recent call last)",
      "Cell \u001b[0;32mIn[50], line 25\u001b[0m\n\u001b[1;32m     16\u001b[0m \u001b[38;5;28;01mfor\u001b[39;00m \u001b[38;5;28miter\u001b[39m \u001b[38;5;129;01min\u001b[39;00m \u001b[38;5;28mrange\u001b[39m(MAXITER):\n\u001b[1;32m     17\u001b[0m \n\u001b[1;32m     18\u001b[0m     \u001b[38;5;66;03m#update user embedding\u001b[39;00m\n\u001b[1;32m     19\u001b[0m     \u001b[38;5;28;01mfor\u001b[39;00m i,ri \u001b[38;5;129;01min\u001b[39;00m \u001b[38;5;28menumerate\u001b[39m(rating_matrix):\n\u001b[1;32m     20\u001b[0m         \u001b[38;5;66;03m# user_id=train.iloc[i,0]\u001b[39;00m\n\u001b[1;32m     21\u001b[0m         \u001b[38;5;66;03m# item_id=train.iloc[i,1]\u001b[39;00m\n\u001b[1;32m     22\u001b[0m         \u001b[38;5;66;03m# rating=train.iloc[i,2]\u001b[39;00m\n\u001b[1;32m     23\u001b[0m         \u001b[38;5;66;03m# ie=item_embedding[item_id]\u001b[39;00m\n\u001b[0;32m---> 25\u001b[0m         user_embedding[i]\u001b[38;5;241m=\u001b[39m\u001b[43mnp\u001b[49m\u001b[38;5;241;43m.\u001b[39;49m\u001b[43mlinalg\u001b[49m\u001b[38;5;241;43m.\u001b[39;49m\u001b[43msolve\u001b[49m\u001b[43m(\u001b[49m\u001b[43mnp\u001b[49m\u001b[38;5;241;43m.\u001b[39;49m\u001b[43mdot\u001b[49m\u001b[43m(\u001b[49m\u001b[43mitem_embedding\u001b[49m\u001b[38;5;241;43m.\u001b[39;49m\u001b[43mT\u001b[49m\u001b[43m,\u001b[49m\u001b[43mnp\u001b[49m\u001b[38;5;241;43m.\u001b[39;49m\u001b[43mdot\u001b[49m\u001b[43m(\u001b[49m\u001b[43mnp\u001b[49m\u001b[38;5;241;43m.\u001b[39;49m\u001b[43mdiag\u001b[49m\u001b[43m(\u001b[49m\u001b[43mri\u001b[49m\u001b[43m)\u001b[49m\u001b[43m,\u001b[49m\u001b[43mitem_embedding\u001b[49m\u001b[43m)\u001b[49m\u001b[43m)\u001b[49m\u001b[38;5;241;43m+\u001b[39;49m\u001b[43margs\u001b[49m\u001b[38;5;241;43m.\u001b[39;49m\u001b[43mweight_decay\u001b[49m\u001b[38;5;241;43m*\u001b[39;49m\u001b[43mnp\u001b[49m\u001b[38;5;241;43m.\u001b[39;49m\u001b[43meye\u001b[49m\u001b[43m(\u001b[49m\u001b[43margs\u001b[49m\u001b[38;5;241;43m.\u001b[39;49m\u001b[43mlatent_dim\u001b[49m\u001b[43m)\u001b[49m\u001b[43m,\u001b[49m\n\u001b[1;32m     26\u001b[0m \u001b[43m                                          \u001b[49m\u001b[43mnp\u001b[49m\u001b[38;5;241;43m.\u001b[39;49m\u001b[43mdot\u001b[49m\u001b[43m(\u001b[49m\u001b[43mitem_embedding\u001b[49m\u001b[38;5;241;43m.\u001b[39;49m\u001b[43mT\u001b[49m\u001b[43m,\u001b[49m\u001b[43mnp\u001b[49m\u001b[38;5;241;43m.\u001b[39;49m\u001b[43mdot\u001b[49m\u001b[43m(\u001b[49m\u001b[43mnp\u001b[49m\u001b[38;5;241;43m.\u001b[39;49m\u001b[43mdiag\u001b[49m\u001b[43m(\u001b[49m\u001b[43mri\u001b[49m\u001b[43m)\u001b[49m\u001b[43m,\u001b[49m\u001b[43mri\u001b[49m\u001b[38;5;241;43m.\u001b[39;49m\u001b[43mT\u001b[49m\u001b[43m)\u001b[49m\u001b[43m)\u001b[49m\u001b[43m)\u001b[49m\u001b[38;5;241m.\u001b[39mT\n\u001b[1;32m     28\u001b[0m     \u001b[38;5;66;03m#update item embedding\u001b[39;00m\n\u001b[1;32m     30\u001b[0m     \u001b[38;5;28;01mfor\u001b[39;00m j,rj \u001b[38;5;129;01min\u001b[39;00m \u001b[38;5;28menumerate\u001b[39m(rating_matrix\u001b[38;5;241m.\u001b[39mT):\n\u001b[1;32m     31\u001b[0m         \u001b[38;5;66;03m# user_id=train.iloc[i,0]\u001b[39;00m\n",
      "File \u001b[0;32m/workspaces/jjh-gpu1-temp/IDSL/ADMM_FactorizationMachines/.venv/lib/python3.10/site-packages/numpy/linalg/linalg.py:409\u001b[0m, in \u001b[0;36msolve\u001b[0;34m(a, b)\u001b[0m\n\u001b[1;32m    407\u001b[0m signature \u001b[38;5;241m=\u001b[39m \u001b[38;5;124m'\u001b[39m\u001b[38;5;124mDD->D\u001b[39m\u001b[38;5;124m'\u001b[39m \u001b[38;5;28;01mif\u001b[39;00m isComplexType(t) \u001b[38;5;28;01melse\u001b[39;00m \u001b[38;5;124m'\u001b[39m\u001b[38;5;124mdd->d\u001b[39m\u001b[38;5;124m'\u001b[39m\n\u001b[1;32m    408\u001b[0m extobj \u001b[38;5;241m=\u001b[39m get_linalg_error_extobj(_raise_linalgerror_singular)\n\u001b[0;32m--> 409\u001b[0m r \u001b[38;5;241m=\u001b[39m \u001b[43mgufunc\u001b[49m\u001b[43m(\u001b[49m\u001b[43ma\u001b[49m\u001b[43m,\u001b[49m\u001b[43m \u001b[49m\u001b[43mb\u001b[49m\u001b[43m,\u001b[49m\u001b[43m \u001b[49m\u001b[43msignature\u001b[49m\u001b[38;5;241;43m=\u001b[39;49m\u001b[43msignature\u001b[49m\u001b[43m,\u001b[49m\u001b[43m \u001b[49m\u001b[43mextobj\u001b[49m\u001b[38;5;241;43m=\u001b[39;49m\u001b[43mextobj\u001b[49m\u001b[43m)\u001b[49m\n\u001b[1;32m    411\u001b[0m \u001b[38;5;28;01mreturn\u001b[39;00m wrap(r\u001b[38;5;241m.\u001b[39mastype(result_t, copy\u001b[38;5;241m=\u001b[39m\u001b[38;5;28;01mFalse\u001b[39;00m))\n",
      "\u001b[0;31mKeyboardInterrupt\u001b[0m: "
     ]
    }
   ],
   "source": [
    "# train_test_split\n",
    "from sklearn.model_selection import train_test_split\n",
    "train, test = train_test_split(data, test_size=0.2, random_state=42)\n",
    "import numpy as np\n",
    "\n",
    "# train the model with Alternating Least Squares\n",
    "\n",
    "# train the model with Alternating Least Squares\n",
    "user_embedding=np.random.rand(ml100k.num_users,args.latent_dim)\n",
    "item_embedding=np.random.rand(ml100k.num_items,args.latent_dim)\n",
    "MAXITER=20\n",
    "rating_matrix=data.pivot(index='user',columns='item',values='rating').values\n",
    "rating_matrix=np.nan_to_num(rating_matrix)\n",
    "# to integer\n",
    "rating_matrix=rating_matrix.astype(int)\n",
    "for iter in range(MAXITER):\n",
    "\n",
    "    #update user embedding\n",
    "    for i,ri in enumerate(rating_matrix):\n",
    "        # user_id=train.iloc[i,0]\n",
    "        # item_id=train.iloc[i,1]\n",
    "        # rating=train.iloc[i,2]\n",
    "        # ie=item_embedding[item_id]\n",
    "        \n",
    "        user_embedding[i]=np.linalg.solve(np.dot(item_embedding.T,np.dot(np.diag(ri),item_embedding))+args.weight_decay*np.eye(args.latent_dim),\n",
    "                                          np.dot(item_embedding.T,np.dot(np.diag(ri),ri.T))).T\n",
    "\n",
    "    #update item embedding\n",
    "\n",
    "    for j,rj in enumerate(rating_matrix.T):\n",
    "        # user_id=train.iloc[i,0]\n",
    "        item_embedding[j]=np.linalg.solve(np.dot(user_embedding.T,np.dot(np.diag(rj),user_embedding))+args.weight_decay*np.eye(args.latent_dim),\n",
    "                                            np.dot(user_embedding.T,np.dot(np.diag(rj),rj)))\n",
    "        #item_embedding[item_id]=np.linalg.solve(np.dot(ue.T,ue)+np.eye(args.weight_decay),np.dot(ue.T,rating))\n",
    "    \n",
    "    # printmse\n",
    "    print(\"iter: \",iter)\n",
    "    print(\"mse: \",np.mean(np.square(rating_matrix-np.dot(user_embedding,item_embedding.T))))\n",
    "\n",
    "print(\"done\")"
   ]
  }
 ],
 "metadata": {
  "kernelspec": {
   "display_name": ".venv",
   "language": "python",
   "name": "python3"
  },
  "language_info": {
   "codemirror_mode": {
    "name": "ipython",
    "version": 3
   },
   "file_extension": ".py",
   "mimetype": "text/x-python",
   "name": "python",
   "nbconvert_exporter": "python",
   "pygments_lexer": "ipython3",
   "version": "3.10.12"
  }
 },
 "nbformat": 4,
 "nbformat_minor": 2
}
