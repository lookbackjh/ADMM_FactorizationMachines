{
 "cells": [
  {
   "cell_type": "code",
   "execution_count": 3,
   "metadata": {},
   "outputs": [
    {
     "data": {
      "text/plain": [
       "tensor([[ 0.0000,  0.0000,  0.0000],\n",
       "        [-0.3847,  0.4362, -0.1602],\n",
       "        [ 0.7422,  1.1896,  1.0186],\n",
       "        [-0.6328,  1.6578,  0.9112],\n",
       "        [-1.6872, -0.3218, -2.5296],\n",
       "        [ 0.1531, -0.1074,  1.4352],\n",
       "        [ 0.0928,  0.2498, -0.0299],\n",
       "        [ 0.9105,  0.1826, -1.2960],\n",
       "        [-0.1227,  0.1769,  1.7846],\n",
       "        [ 0.5672, -0.3508, -0.8453]])"
      ]
     },
     "execution_count": 3,
     "metadata": {},
     "output_type": "execute_result"
    }
   ],
   "source": [
    "import torch.nn as nn\n",
    "\n",
    "emb=nn.Embedding(10, 3, padding_idx=0)\n",
    "\n",
    "emb.weight.data"
   ]
  },
  {
   "cell_type": "code",
   "execution_count": 4,
   "metadata": {},
   "outputs": [
    {
     "data": {
      "text/plain": [
       "32"
      ]
     },
     "execution_count": 4,
     "metadata": {},
     "output_type": "execute_result"
    }
   ],
   "source": [
    "import numpy as np\n",
    "\n",
    "a=np.array([1,2,3])\n",
    "b=np.array([4,5,6])\n",
    "\n",
    "np.dot(a,b)"
   ]
  }
 ],
 "metadata": {
  "kernelspec": {
   "display_name": ".venv",
   "language": "python",
   "name": "python3"
  },
  "language_info": {
   "codemirror_mode": {
    "name": "ipython",
    "version": 3
   },
   "file_extension": ".py",
   "mimetype": "text/x-python",
   "name": "python",
   "nbconvert_exporter": "python",
   "pygments_lexer": "ipython3",
   "version": "3.10.12"
  }
 },
 "nbformat": 4,
 "nbformat_minor": 2
}
